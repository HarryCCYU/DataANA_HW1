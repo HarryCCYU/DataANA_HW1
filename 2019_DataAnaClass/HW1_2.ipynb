{
 "cells": [
  {
   "cell_type": "code",
   "execution_count": 3,
   "metadata": {},
   "outputs": [
    {
     "name": "stdout",
     "output_type": "stream",
     "text": [
      "[143, 3587, 4993, 6371, 6372, 6373, 6374, 6375, 6380, 6382, 6385, 6393, 6394, 6395, 6396, 8028, 8222]\n",
      "[5, 5, 5, 3, 4, 4, 5, 2, 5, 3, 1, 3, 5, 5, 4, 3, 4]\n"
     ]
    }
   ],
   "source": [
    "'''\n",
    "The most number of reviews : ('A1Z54EM24Y40LL', 17)\n",
    "'''\n",
    "\n",
    "import pandas as pd\n",
    "\n",
    "Data = pd.read_csv('./Reviews.csv')\n",
    "Data = Data[:10000]\n",
    "Total_userid = Data['UserId']\n",
    "\n",
    "index_list = list()\n",
    "Total_userid_list = list(Total_userid)\n",
    "for j in range(len(Total_userid_list)):\n",
    "    if \"A1Z54EM24Y40LL\" == Total_userid_list[j]:\n",
    "        index_list.append(j)\n",
    "print(index_list)\n",
    "\n",
    "distribution_list = list()\n",
    "for index in index_list:\n",
    "    distribution_list.append(Data.iloc[index,6])\n",
    "    \n",
    "print(distribution_list)"
   ]
  },
  {
   "cell_type": "code",
   "execution_count": 11,
   "metadata": {},
   "outputs": [
    {
     "data": {
      "image/png": "[encoded data removed]",
      "text/plain": [
       "<Figure size 432x288 with 1 Axes>"
      ]
     },
     "metadata": {},
     "output_type": "display_data"
    }
   ],
   "source": [
    "import matplotlib.pyplot as plt\n",
    "c1=0;c2=0;c3=0;c4=0;c5=0\n",
    "for count in distribution_list:\n",
    "    if count == 1:\n",
    "        c1 += 1\n",
    "    elif count == 2:\n",
    "        c2 += 1\n",
    "    elif count == 3:\n",
    "        c3 += 1\n",
    "    elif count == 4:\n",
    "        c4 += 1\n",
    "    elif count == 5:\n",
    "        c5 += 1\n",
    "\n",
    "\n",
    "x = [1,2,3,4,5]\n",
    "y = [c1,c2,c3,c4,c5]\n",
    "\n",
    "plt.bar(x,y,color = ['b','orange','g','r','purple'])\n",
    "\n",
    "plt.show()"
   ]
  },
  {
   "cell_type": "code",
   "execution_count": null,
   "metadata": {},
   "outputs": [],
   "source": []
  }
 ],
 "metadata": {
  "kernelspec": {
   "display_name": "Python 3",
   "language": "python",
   "name": "python3"
  },
  "language_info": {
   "codemirror_mode": {
    "name": "ipython",
    "version": 3
   },
   "file_extension": ".py",
   "mimetype": "text/x-python",
   "name": "python",
   "nbconvert_exporter": "python",
   "pygments_lexer": "ipython3",
   "version": "3.6.4"
  }
 },
 "nbformat": 4,
 "nbformat_minor": 2
}
