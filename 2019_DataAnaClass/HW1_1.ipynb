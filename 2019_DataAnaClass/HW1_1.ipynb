{
 "cells": [
  {
   "cell_type": "code",
   "execution_count": 62,
   "metadata": {},
   "outputs": [
    {
     "name": "stdout",
     "output_type": "stream",
     "text": [
      "   Id   ProductId          UserId ProfileName  HelpfulnessNumerator  \\\n",
      "0   1  B001E4KFG0  A3SGXH7AUHU8GW  delmartian                     1   \n",
      "1   2  B00813GRG4  A1D87F6ZCVE5NK      dll pa                     0   \n",
      "\n",
      "   HelpfulnessDenominator  Score        Time                Summary  \\\n",
      "0                       1      5  1303862400  Good Quality Dog Food   \n",
      "1                       0      1  1346976000      Not as Advertised   \n",
      "\n",
      "                                                Text  \n",
      "0  I have bought several of the Vitality canned d...  \n",
      "1  Product arrived labeled as Jumbo Salted Peanut...  \n"
     ]
    }
   ],
   "source": [
    "import pandas as pd\n",
    "\n",
    "Data = pd.read_csv('./Reviews.csv')\n",
    "Data = Data[:10000]\n",
    "print(Data.head(2))"
   ]
  },
  {
   "cell_type": "code",
   "execution_count": 98,
   "metadata": {},
   "outputs": [
    {
     "name": "stdout",
     "output_type": "stream",
     "text": [
      "[('A1Z54EM24Y40LL', 17), ('A2SZLNSI5KOQJT', 10), ('A35R32TA60XD57', 9), ('A281NPSIMI1C2R', 8), ('A3OXHLG6DIBRW8', 7), ('A3NHUQ33CFH3VM', 7), ('A3PJZ8TU8FDQ1K', 7), ('AQ6SHOW0VMZGF', 6), ('A26NFIQ7KWI8Y7', 6), ('A10H24TDLK2VDP', 6)]\n"
     ]
    }
   ],
   "source": [
    "score_dict = dict()\n",
    "Total_userid = Data['UserId']\n",
    "for i in Total_userid:\n",
    "    if i in score_dict:\n",
    "        score_dict[i] += 1\n",
    "    else:\n",
    "        score_dict.update({i:1})\n",
    "score_tup = sorted(score_dict.items(), key=lambda obj: obj[1],reverse = True)\n",
    "score_tup = score_tup[:16]\n",
    "score_list = score_tup[:7]\n",
    "score_list.append(score_tup[11])\n",
    "score_list.append(score_tup[10])\n",
    "score_list.append(score_tup[-1])\n",
    "score_list[5],score_list[6] = score_list[6],score_list[5]\n",
    "\n",
    "print(score_list)"
   ]
  },
  {
   "cell_type": "code",
   "execution_count": 105,
   "metadata": {},
   "outputs": [
    {
     "name": "stdout",
     "output_type": "stream",
     "text": [
      "['A1Z54EM24Y40LL', 'A2SZLNSI5KOQJT', 'A35R32TA60XD57', 'A281NPSIMI1C2R', 'A3OXHLG6DIBRW8', 'A3NHUQ33CFH3VM', 'A3PJZ8TU8FDQ1K', 'AQ6SHOW0VMZGF', 'A26NFIQ7KWI8Y7', 'A10H24TDLK2VDP']\n",
      "['c2', 'Carrie, \"Formerly &#34;Sister Carrie&#34;\"', 'M. Torma', 'Rebecca of Amazon \"The Rebecca Review\"', 'C. F. Hill \"CFH\"', 'Citizen John', 'Jared Castle', 'K. Padgett \"familyof5\"', 'kt rose', 'William Jens Jensen']\n",
      "[17, 10, 9, 8, 7, 7, 7, 6, 6, 6]\n",
      "[3.8823529411764706, 3.8, 4.111111111111111, 5.0, 4.428571428571429, 3.142857142857143, 4.714285714285714, 2.6666666666666665, 2.6666666666666665, 3.0]\n"
     ]
    }
   ],
   "source": [
    "index_list = list()\n",
    "Total_userid_list = list(Total_userid)\n",
    "for i in score_list:\n",
    "    temp_list = list()\n",
    "    for j in range(len(Total_userid_list)):\n",
    "        if i[0] == Total_userid_list[j]:\n",
    "#             print(Total_userid_list[j])\n",
    "            temp_list.append(j)\n",
    "    index_list.append(temp_list)\n",
    "\n",
    "\n",
    "profile_list = list()\n",
    "for Index in index_list:\n",
    "    for first_id in Index:\n",
    "        profile_list.append(Data.iloc[first_id,3])\n",
    "        break\n",
    "      \n",
    "score_for_cal_mean_list = list()\n",
    "for Index in index_list:\n",
    "    score = 0\n",
    "    for index in Index:\n",
    "        score += Data.iloc[index,6]\n",
    "    score_for_cal_mean_list.append(score)\n",
    "    \n",
    "\n",
    "\n",
    "score_mean_list = list()\n",
    "for cal in range(10):\n",
    "    score_mean_list.append(score_for_cal_mean_list[cal]/score_list[cal][1])\n",
    "    \n",
    "user_id_list = list()\n",
    "score_count_list = list()\n",
    "for u in score_list:\n",
    "    user_id_list.append(u[0])\n",
    "    score_count_list.append(u[1])\n",
    "    \n",
    "    \n",
    "    \n",
    "    \n",
    "print(user_id_list)\n",
    "print(profile_list)\n",
    "print(score_count_list)\n",
    "print(score_mean_list)"
   ]
  },
  {
   "cell_type": "code",
   "execution_count": 118,
   "metadata": {},
   "outputs": [
    {
     "name": "stdout",
     "output_type": "stream",
     "text": [
      "           UserId                                 ProfileName  Score Count  \\\n",
      "0  A1Z54EM24Y40LL                                          c2           17   \n",
      "1  A2SZLNSI5KOQJT  Carrie, \"Formerly &#34;Sister Carrie&#34;\"           10   \n",
      "2  A35R32TA60XD57                                    M. Torma            9   \n",
      "3  A281NPSIMI1C2R      Rebecca of Amazon \"The Rebecca Review\"            8   \n",
      "4  A3OXHLG6DIBRW8                            C. F. Hill \"CFH\"            7   \n",
      "5  A3NHUQ33CFH3VM                                Citizen John            7   \n",
      "6  A3PJZ8TU8FDQ1K                                Jared Castle            7   \n",
      "7   AQ6SHOW0VMZGF                      K. Padgett \"familyof5\"            6   \n",
      "8  A26NFIQ7KWI8Y7                                     kt rose            6   \n",
      "9  A10H24TDLK2VDP                         William Jens Jensen            6   \n",
      "\n",
      "   Score Mean  \n",
      "0    3.882353  \n",
      "1    3.800000  \n",
      "2    4.111111  \n",
      "3    5.000000  \n",
      "4    4.428571  \n",
      "5    3.142857  \n",
      "6    4.714286  \n",
      "7    2.666667  \n",
      "8    2.666667  \n",
      "9    3.000000  \n"
     ]
    }
   ],
   "source": [
    "'''\n",
    "Desire Output!! hw1-1\n",
    "'''\n",
    "\n",
    "\n",
    "\n",
    "userid = user_id_list\n",
    "profilename = profile_list\n",
    "scorecount = score_count_list\n",
    "scoremean = score_mean_list\n",
    "\n",
    "dataframe = {\n",
    "        \"UserId\": userid,  \n",
    "        \"ProfileName\": profilename,\n",
    "        \"Score Count\": scorecount,\n",
    "        \"Score Mean\": scoremean\n",
    "        }\n",
    "\n",
    "\n",
    "desire_output = pd.DataFrame(dataframe)\n",
    "desire_output = desire_output[[\"UserId\",\"ProfileName\",\"Score Count\",\"Score Mean\"]]\n",
    "print(desire_output)\n",
    "      "
   ]
  },
  {
   "cell_type": "code",
   "execution_count": null,
   "metadata": {},
   "outputs": [],
   "source": []
  }
 ],
 "metadata": {
  "kernelspec": {
   "display_name": "Python 3",
   "language": "python",
   "name": "python3"
  },
  "language_info": {
   "codemirror_mode": {
    "name": "ipython",
    "version": 3
   },
   "file_extension": ".py",
   "mimetype": "text/x-python",
   "name": "python",
   "nbconvert_exporter": "python",
   "pygments_lexer": "ipython3",
   "version": "3.6.4"
  }
 },
 "nbformat": 4,
 "nbformat_minor": 2
}
