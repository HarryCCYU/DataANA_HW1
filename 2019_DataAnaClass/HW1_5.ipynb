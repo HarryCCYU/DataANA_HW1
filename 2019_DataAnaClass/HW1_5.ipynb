{
 "cells": [
  {
   "cell_type": "code",
   "execution_count": 8,
   "metadata": {},
   "outputs": [
    {
     "name": "stdout",
     "output_type": "stream",
     "text": [
      "[-1, -0.75, -0.5, -0.25, 0.0, 0.25, 0.5, 0.75, 1.0]\n"
     ]
    }
   ],
   "source": [
    "import pandas as pd\n",
    "import numpy as np\n",
    "import matplotlib.pyplot as plt\n",
    "\n",
    "Data = pd.read_csv('./Reviews.csv')\n",
    "Data = Data[:10000]\n",
    "Numerator = Data[\"HelpfulnessNumerator\"]\n",
    "Denominator = Data[\"HelpfulnessDenominator\"]\n",
    "\n",
    "x = [-1,-0.75,-0.50,-0.25,0.00,0.25,0.50,0.75,1.00]\n",
    "print(x)"
   ]
  },
  {
   "cell_type": "code",
   "execution_count": 14,
   "metadata": {},
   "outputs": [
    {
     "data": {
      "image/png": "[encoded data removed]",
      "text/plain": [
       "<Figure size 432x288 with 1 Axes>"
      ]
     },
     "metadata": {},
     "output_type": "display_data"
    }
   ],
   "source": [
    "y = list()\n",
    "for i in range(10000):\n",
    "    if Numerator[i] == Denominator[i] == 0:\n",
    "        y.append(-1)\n",
    "    elif Numerator[i] > Denominator[i] :\n",
    "        pass\n",
    "    else:\n",
    "        y.append(Numerator[i]/Denominator[i])\n",
    "\n",
    "plt.hist(y,10)\n",
    "plt.show()"
   ]
  },
  {
   "cell_type": "code",
   "execution_count": null,
   "metadata": {},
   "outputs": [],
   "source": []
  }
 ],
 "metadata": {
  "kernelspec": {
   "display_name": "Python 3",
   "language": "python",
   "name": "python3"
  },
  "language_info": {
   "codemirror_mode": {
    "name": "ipython",
    "version": 3
   },
   "file_extension": ".py",
   "mimetype": "text/x-python",
   "name": "python",
   "nbconvert_exporter": "python",
   "pygments_lexer": "ipython3",
   "version": "3.6.4"
  }
 },
 "nbformat": 4,
 "nbformat_minor": 2
}
